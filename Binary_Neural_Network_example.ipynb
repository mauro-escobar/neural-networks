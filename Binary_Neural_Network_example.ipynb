{
  "nbformat": 4,
  "nbformat_minor": 0,
  "metadata": {
    "colab": {
      "name": "Binary Neural Network - example.ipynb",
      "provenance": [],
      "collapsed_sections": [],
      "toc_visible": true,
      "machine_shape": "hm",
      "mount_file_id": "1aQtwaxcVZIJMbBnMVD7kg1csXEqM3HTs",
      "authorship_tag": "ABX9TyNriGAflHWP2w2AmnmCSqmg",
      "include_colab_link": true
    },
    "kernelspec": {
      "name": "python3",
      "display_name": "Python 3"
    },
    "language_info": {
      "name": "python"
    }
  },
  "cells": [
    {
      "cell_type": "markdown",
      "metadata": {
        "id": "view-in-github",
        "colab_type": "text"
      },
      "source": [
        "<a href=\"https://colab.research.google.com/github/mauro-escobar/neural-networks/blob/main/Binary_Neural_Network_example.ipynb\" target=\"_parent\"><img src=\"https://colab.research.google.com/assets/colab-badge.svg\" alt=\"Open In Colab\"/></a>"
      ]
    },
    {
      "cell_type": "markdown",
      "metadata": {
        "id": "bnk0gAXiSwcL"
      },
      "source": [
        "Following [this example](https://github.com/jaygshah/Binary-Neural-Networks/blob/281ebc7f3e712801c55aa77cef52365ecc2d146d/binary_deterministic_stochastic.py#L284).\n",
        "\n",
        "### Imports and useful functions "
      ]
    },
    {
      "cell_type": "code",
      "metadata": {
        "id": "8vcowmXuSoU1"
      },
      "source": [
        "import numpy as np\n",
        "import matplotlib.pyplot as plt\n",
        "import tensorflow as tf\n",
        "import keras\n",
        "from sklearn.model_selection import train_test_split\n",
        "import psutil\n",
        "import time"
      ],
      "execution_count": 69,
      "outputs": []
    },
    {
      "cell_type": "markdown",
      "metadata": {
        "id": "M1Q_h9GFpfsp"
      },
      "source": [
        "#### `hard_sigmoid`"
      ]
    },
    {
      "cell_type": "code",
      "metadata": {
        "id": "bxiGPHLgUDRH"
      },
      "source": [
        "def hard_sigmoid(x):\n",
        "    return np.clip((x+1.)/2.,0,1)"
      ],
      "execution_count": 2,
      "outputs": []
    },
    {
      "cell_type": "code",
      "metadata": {
        "id": "he-miAfguX_w"
      },
      "source": [
        "import numpy as np\n",
        "import os\n",
        "import pdb\n",
        "import matplotlib.pyplot as plt\n",
        "\n",
        "datasets_dir = '/content/drive/MyDrive/Colab Notebooks'\n",
        "\n",
        "\n",
        "def one_hot(x, n):\n",
        "    if type(x) == list:\n",
        "        x = np.array(x)\n",
        "    x = x.flatten()\n",
        "    o_h = np.zeros((len(x), n))\n",
        "    o_h[np.arange(len(x)), x] = 1\n",
        "    return o_h\n",
        "\n",
        "'''\n",
        "def train_validation_split(noTrSamples=1000, noTsSamples=100, \\\n",
        "                        digit_range=[0, 1, 2, 3, 4, 5, 6, 7, 8, 9], \\\n",
        "                        noTrPerClass=100, noTsPerClass=10, trData=[],trLabels=[]):\n",
        "    \n",
        "    tsX = np.zeros((noTsSamples, 28*28))\n",
        "    trX = np.zeros((noTrSamples, 28*28))\n",
        "    tsY = np.zeros(noTsSamples)\n",
        "    trY = np.zeros(noTrSamples)\n",
        "\n",
        "    count = 0\n",
        "    for ll in digit_range:\n",
        "        # Train data\n",
        "        idl = np.where(trLabels == ll)\n",
        "        idl = idl[0][: noTrPerClass]\n",
        "        idx = list(range(count*noTrPerClass, (count+1)*noTrPerClass))\n",
        "        trX[idx, :] = trData[idl, :]\n",
        "        trY[idx] = trLabels[idl]\n",
        "        # Test data\n",
        "        idl = np.where(tsLabels == ll)\n",
        "        idl = idl[0][: noTsPerClass]\n",
        "        idx = list(range(count*noTsPerClass, (count+1)*noTsPerClass))\n",
        "        tsX[idx, :] = tsData[idl, :]\n",
        "        tsY[idx] = tsLabels[idl]\n",
        "        count += 1\n",
        "    \n",
        "    np.random.seed(1)\n",
        "    test_idx = np.random.permutation(tsX.shape[0])\n",
        "    tsX = tsX[test_idx,:]\n",
        "    tsY = tsY[test_idx]\n",
        "\n",
        "    trX = trX.T\n",
        "    tsX = tsX.T\n",
        "    trY = trY.reshape(1, -1)\n",
        "    tsY = tsY.reshape(1, -1)\n",
        "    return trX, trY, tsX, tsY\n",
        "'''\n",
        "\n",
        "\n",
        "def mnist(noTrSamples=1000, noTsSamples=100, \\\n",
        "          digit_range=[0, 1, 2, 3, 4, 5, 6, 7, 8, 9], \\\n",
        "          noTrPerClass=100, noTsPerClass=10):\n",
        "    assert noTrSamples==noTrPerClass*len(digit_range), 'noTrSamples and noTrPerClass mismatch'\n",
        "    assert noTsSamples==noTsPerClass*len(digit_range), 'noTrSamples and noTrPerClass mismatch'\n",
        "    '''\n",
        "    data_dir = os.path.join(datasets_dir, 'mnist/')\n",
        "    fd = open(os.path.join(data_dir, 'train-images.idx3-ubyte'))\n",
        "    loaded = np.fromfile(file=fd, dtype=np.uint8)\n",
        "    trData = loaded[16:].reshape((60000, 28*28)).astype(float)\n",
        "\n",
        "    fd = open(os.path.join(data_dir, 'train-labels.idx1-ubyte'))\n",
        "    loaded = np.fromfile(file=fd, dtype=np.uint8)\n",
        "    trLabels = loaded[8:].reshape((60000)).astype(float)\n",
        "\n",
        "    fd = open(os.path.join(data_dir, 't10k-images.idx3-ubyte'))\n",
        "    loaded = np.fromfile(file=fd, dtype=np.uint8)\n",
        "    tsData = loaded[16:].reshape((10000, 28*28)).astype(float)\n",
        "\n",
        "    fd = open(os.path.join(data_dir, 't10k-labels.idx1-ubyte'))\n",
        "    loaded = np.fromfile(file=fd, dtype=np.uint8)\n",
        "    tsLabels = loaded[8:].reshape((10000)).astype(float)\n",
        "    '''\n",
        "    (trData, trLabels), (tsData, tsLabels) = tf.keras.datasets.mnist.load_data()\n",
        "    trData = trData.reshape((60000, 28*28)).astype(float)\n",
        "    trLabels = trLabels.reshape((60000)).astype(float)\n",
        "    tsData = tsData.reshape((10000, 28*28)).astype(float)\n",
        "    tsLabels = tsLabels.reshape((10000)).astype(float)\n",
        "\n",
        "    trData = trData/255.\n",
        "    tsData = tsData/255.\n",
        "\n",
        "    tsX = np.zeros((noTsSamples, 28*28))\n",
        "    trX = np.zeros((noTrSamples, 28*28))\n",
        "    tsY = np.zeros(noTsSamples)\n",
        "    trY = np.zeros(noTrSamples)\n",
        "\n",
        "    count = 0\n",
        "    for ll in digit_range:\n",
        "        # Train data\n",
        "        idl = np.where(trLabels == ll)\n",
        "        idl = idl[0][: noTrPerClass]\n",
        "        idx = list(range(count*noTrPerClass, (count+1)*noTrPerClass))\n",
        "        trX[idx, :] = trData[idl, :]\n",
        "        trY[idx] = trLabels[idl]\n",
        "        # Test data\n",
        "        idl = np.where(tsLabels == ll)\n",
        "        idl = idl[0][: noTsPerClass]\n",
        "        idx = list(range(count*noTsPerClass, (count+1)*noTsPerClass))\n",
        "        tsX[idx, :] = tsData[idl, :]\n",
        "        tsY[idx] = tsLabels[idl]\n",
        "        count += 1\n",
        "    \n",
        "    np.random.seed(1)\n",
        "    test_idx = np.random.permutation(tsX.shape[0])\n",
        "    tsX = tsX[test_idx,:]\n",
        "    tsY = tsY[test_idx]\n",
        "\n",
        "    trX = trX.T\n",
        "    tsX = tsX.T\n",
        "    trY = trY.reshape(1, -1)\n",
        "    tsY = tsY.reshape(1, -1)\n",
        "    return trX, trY, tsX, tsY"
      ],
      "execution_count": 61,
      "outputs": []
    },
    {
      "cell_type": "markdown",
      "metadata": {
        "id": "Aab3SCqST03E"
      },
      "source": [
        "### Activation functions"
      ]
    },
    {
      "cell_type": "markdown",
      "metadata": {
        "id": "U29F5O0apduE"
      },
      "source": [
        "#### `relu`"
      ]
    },
    {
      "cell_type": "code",
      "metadata": {
        "id": "hr09zpPoTNo0"
      },
      "source": [
        "def relu(Z):\n",
        "    '''\n",
        "    computes relu activation of Z\n",
        "    Inputs: \n",
        "        Z is a numpy.ndarray (n, m)\n",
        "    Returns: \n",
        "        A is activation. numpy.ndarray (n, m)\n",
        "        cache is a dictionary with {\"Z\", Z}\n",
        "    '''\n",
        "    A = np.maximum(0,Z)\n",
        "    cache = {}\n",
        "    cache[\"Z\"] = Z\n",
        "    return A, cache"
      ],
      "execution_count": 3,
      "outputs": []
    },
    {
      "cell_type": "markdown",
      "metadata": {
        "id": "VdMnKtwVpbw7"
      },
      "source": [
        "#### `relu_der`"
      ]
    },
    {
      "cell_type": "code",
      "metadata": {
        "id": "tAdYnjpR3pb_"
      },
      "source": [
        "def relu_der(dA, cache):\n",
        "    '''\n",
        "    computes derivative of relu activation\n",
        "    Inputs: \n",
        "        dA is the derivative from subsequent layer. numpy.ndarray (n, m)\n",
        "        cache is a dictionary with {\"Z\", Z}, where Z was the input \n",
        "        to the activation layer during forward propagation\n",
        "    Returns: \n",
        "        dZ is the derivative. numpy.ndarray (n,m)\n",
        "    '''\n",
        "    dZ = np.array(dA, copy=True)\n",
        "    Z = cache[\"Z\"]\n",
        "    dZ[Z<0] = 0\n",
        "    return dZ"
      ],
      "execution_count": 4,
      "outputs": []
    },
    {
      "cell_type": "markdown",
      "metadata": {
        "id": "XMD7YqAxpZx0"
      },
      "source": [
        "#### `linear`"
      ]
    },
    {
      "cell_type": "code",
      "metadata": {
        "id": "YWxkeyTj35Yr"
      },
      "source": [
        "def linear(Z):\n",
        "    '''\n",
        "    computes linear activation of Z\n",
        "    This function is implemented for completeness\n",
        "    Inputs: \n",
        "        Z is a numpy.ndarray (n, m)\n",
        "    Returns: \n",
        "        A is activation. numpy.ndarray (n, m)\n",
        "        cache is a dictionary with {\"Z\", Z}\n",
        "    '''\n",
        "    A = Z\n",
        "    cache = {}\n",
        "    return A, cache"
      ],
      "execution_count": 5,
      "outputs": []
    },
    {
      "cell_type": "markdown",
      "metadata": {
        "id": "0jM111YipXlR"
      },
      "source": [
        "#### `linear_der`"
      ]
    },
    {
      "cell_type": "code",
      "metadata": {
        "id": "QIJavsSt5NKp"
      },
      "source": [
        "def linear_der(dA, cache):\n",
        "    '''\n",
        "    computes derivative of linear activation\n",
        "    This function is implemented for completeness\n",
        "    Inputs: \n",
        "        dA is the derivative from subsequent layer. numpy.ndarray (n, m)\n",
        "        cache is a dictionary with {\"Z\", Z}, where Z was the input \n",
        "        to the activation layer during forward propagation\n",
        "    Returns: \n",
        "        dZ is the derivative. numpy.ndarray (n,m)\n",
        "    '''\n",
        "    dZ = np.array(dA, copy=True)\n",
        "    return dZ"
      ],
      "execution_count": 6,
      "outputs": []
    },
    {
      "cell_type": "markdown",
      "metadata": {
        "id": "OLtiN7HQT6ev"
      },
      "source": [
        "### Binarizing functions"
      ]
    },
    {
      "cell_type": "markdown",
      "metadata": {
        "id": "KCGwU5ILpTOB"
      },
      "source": [
        "#### `Binarize_Deterministic`"
      ]
    },
    {
      "cell_type": "code",
      "metadata": {
        "id": "BmseIMfQTYdr"
      },
      "source": [
        "def Binarize_Deterministic(W,b):\n",
        "    '''\n",
        "    Input: activation of Z and Binarizing Weights\n",
        "    Output: Binarized weights and activations\n",
        "    '''\n",
        "    threshold,upper,lower=0,1,-1\n",
        "    \n",
        "    Wb = np.zeros(W.shape)\n",
        "    bb = np.zeros(b.shape)\n",
        "    Wb[W>=threshold] = upper\n",
        "    Wb[W<threshold] = lower\n",
        "    bb[b>=threshold] = upper\n",
        "    bb[b<threshold] = lower\n",
        "    \n",
        "    return Wb,bb"
      ],
      "execution_count": 7,
      "outputs": []
    },
    {
      "cell_type": "markdown",
      "metadata": {
        "id": "oIeKC_z3pRO5"
      },
      "source": [
        "#### `Binarize_Deterministic_A`"
      ]
    },
    {
      "cell_type": "code",
      "metadata": {
        "id": "7KvH4R9ETo-9"
      },
      "source": [
        "def Binarize_Deterministic_A(A):\n",
        "    '''\n",
        "    Input: activation A \n",
        "    Output: Binarized A\n",
        "    '''\n",
        "    threshold,upper,lower=0,1,-1\n",
        "    \n",
        "    # A=Z\n",
        "    Ab = np.zeros(A.shape)\t\n",
        "    Ab[A>=threshold] = upper\n",
        "    Ab[A<threshold] = lower\n",
        "    \n",
        "    return Ab"
      ],
      "execution_count": 8,
      "outputs": []
    },
    {
      "cell_type": "markdown",
      "metadata": {
        "id": "muQjKikBpO_b"
      },
      "source": [
        "#### `Binarize_Stochastic`"
      ]
    },
    {
      "cell_type": "code",
      "metadata": {
        "id": "Kzx_CMsSoFfm"
      },
      "source": [
        "def Binarize_Stochastic(W,b):\t\n",
        "    #srng = RandomStreams(lasagne.random.get_rng().randint(1, 21))\n",
        "    Wb = hard_sigmoid(W/1.0)\n",
        "    #print(Wb.shape)\n",
        "    Wb[Wb>=0.5] = 1\n",
        "    Wb[Wb<0.5] = -1\t\n",
        "    bb = hard_sigmoid(b/1.0)\n",
        "      \n",
        "    return Wb,bb"
      ],
      "execution_count": 80,
      "outputs": []
    },
    {
      "cell_type": "markdown",
      "metadata": {
        "id": "RbAysLUH5axZ"
      },
      "source": [
        "### Loss function"
      ]
    },
    {
      "cell_type": "markdown",
      "metadata": {
        "id": "ie-3HGi9pLl-"
      },
      "source": [
        "#### `computeLoss`"
      ]
    },
    {
      "cell_type": "code",
      "metadata": {
        "id": "NmBukYvU5gcN"
      },
      "source": [
        "def computeLoss(A,Y):\n",
        "    # Calculating one hot vecs\n",
        "    \n",
        "    Y = Y.T\n",
        "    row,col = Y.shape\n",
        "    \n",
        "    # Computing one_hot representation\n",
        "    o_h = np.zeros((row,10))\n",
        "    for i in range(0,row):\n",
        "        temp = np.zeros((10,))\n",
        "        #print Y[i][0]\n",
        "        temp[int(Y[i][0])] = 1\n",
        "        o_h[i] = temp\n",
        "    \n",
        "    A = np.log(A)\n",
        "    \n",
        "    total_cost = -1*np.multiply(o_h,A)\n",
        "    \n",
        "    avg_loss = np.sum(total_cost)/row\n",
        "    \n",
        "    return avg_loss"
      ],
      "execution_count": 10,
      "outputs": []
    },
    {
      "cell_type": "markdown",
      "metadata": {
        "id": "zjtwszlCpKS4"
      },
      "source": [
        "#### `softmax_cross_entropy_loss`"
      ]
    },
    {
      "cell_type": "code",
      "metadata": {
        "id": "7w7m3Ewq9GCk"
      },
      "source": [
        "def softmax_cross_entropy_loss(Z, Y=np.array([])):\n",
        "    '''\n",
        "    Computes the softmax activation of the inputs Z\n",
        "    Estimates the cross entropy loss\n",
        "    Inputs: \n",
        "        Z - numpy.ndarray (n, m)\n",
        "        Y - numpy.ndarray (1, m) of labels\n",
        "            when y=[] loss is set to []\n",
        "    \n",
        "    Returns:\n",
        "        A - numpy.ndarray (n, m) of softmax activations\n",
        "        cache -  a dictionary to store the activations later used to estimate derivatives\n",
        "        loss - cost of prediction\n",
        "    '''\n",
        "    ### CODE HERE \n",
        "    # print Z.shape\n",
        "    row = Y.shape\n",
        "    n,m = Z.shape\n",
        "    Zmax = np.zeros((m,1))\n",
        "    for i in range(0,m):    \t\n",
        "    \tZmax[i] = (np.amax(Z.T[i]))\n",
        "        \n",
        "    diff = Z.T - Zmax\n",
        "    ediff = np.exp(diff)\n",
        "    \n",
        "    A = np.zeros((m,n))\n",
        "    \n",
        "    for i in range(0,m):\n",
        "    \tvar = ediff[i]/np.sum(ediff[i])\n",
        "    \tA[i] = var\n",
        "    \n",
        "    # Calculating Loss now\n",
        "    loss = 0\n",
        "    if row[0] != 0:\n",
        "    \tloss = computeLoss(A,Y)\n",
        "\n",
        "    #added by me could be wrong\n",
        "    cache = {}\n",
        "    cache[\"A\"] = A\n",
        "    return A.T, cache, loss"
      ],
      "execution_count": 11,
      "outputs": []
    },
    {
      "cell_type": "markdown",
      "metadata": {
        "id": "rVRlbGVBpFz7"
      },
      "source": [
        "#### `softmax_cross_entropy_loss_der`"
      ]
    },
    {
      "cell_type": "code",
      "metadata": {
        "id": "tA_UCG2V-sv-"
      },
      "source": [
        "def softmax_cross_entropy_loss_der(Y, cache):\n",
        "    '''\n",
        "    Computes the derivative of softmax activation and cross entropy loss\n",
        "    Inputs: \n",
        "        Y - numpy.ndarray (1, m) of labels\n",
        "        cache -  a dictionary with cached activations A of size (n,m)\n",
        "    Returns:\n",
        "        dZ - numpy.ndarray (n, m) derivative for the previous layer\n",
        "    '''\n",
        "    ### CODE HERE \n",
        "    \n",
        "    cache[\"A\"] = cache[\"A\"].T\n",
        "    \n",
        "    #computing one_hot representation\n",
        "    Y = Y.T\n",
        "    o_h = np.zeros((4200,10))\n",
        "    for i in range(0,4200):\n",
        "        temp = np.zeros((10,))\t    \n",
        "        temp[int(Y[i][0])] = 1\n",
        "        o_h[i] = temp\n",
        "\n",
        "    o_h = o_h.T        \n",
        "    dZ = cache[\"A\"]-o_h\n",
        "    \n",
        "    return dZ"
      ],
      "execution_count": 73,
      "outputs": []
    },
    {
      "cell_type": "markdown",
      "metadata": {
        "id": "l5kBOO73_6ie"
      },
      "source": [
        "### Initialization"
      ]
    },
    {
      "cell_type": "markdown",
      "metadata": {
        "id": "zEB6lW0lpBhb"
      },
      "source": [
        "#### `initialize_multilayer_weights`"
      ]
    },
    {
      "cell_type": "code",
      "metadata": {
        "id": "sNM3do2x-7aV"
      },
      "source": [
        "def initialize_multilayer_weights(net_dims):\n",
        "    '''\n",
        "    Initializes the weights of the multilayer network\n",
        "    Inputs: \n",
        "        net_dims - tuple of network dimensions\n",
        "    Returns:\n",
        "        dictionary of parameters\n",
        "    '''\n",
        "    np.random.seed(0)\n",
        "    numLayers = len(net_dims)\n",
        "    parameters = {}\n",
        "    for l in range(numLayers-1):\n",
        "        parameters[\"W\"+str(l+1)] = np.random.randn(net_dims[l+1],net_dims[l])*0.001 #CODE HERE\n",
        "        parameters[\"Wb\"+str(l+1)] = np.zeros((net_dims[l+1],net_dims[l]))\n",
        "        \n",
        "        parameters[\"b\"+str(l+1)] = np.zeros((net_dims[l+1],1)) #CODE HERE\n",
        "        parameters[\"bb\"+str(l+1)] = np.zeros((net_dims[l+1],1))\n",
        "        \n",
        "    return parameters"
      ],
      "execution_count": 13,
      "outputs": []
    },
    {
      "cell_type": "markdown",
      "metadata": {
        "id": "KElkJiJv_zA7"
      },
      "source": [
        "### Forward propagation"
      ]
    },
    {
      "cell_type": "markdown",
      "metadata": {
        "id": "C-JIqDHFo_CP"
      },
      "source": [
        "#### `linear_forward`"
      ]
    },
    {
      "cell_type": "code",
      "metadata": {
        "id": "SsDtF_OG_FO6"
      },
      "source": [
        "def linear_forward(A, W, b):\n",
        "    '''\n",
        "    Input A propagates through the layer \n",
        "    Z = WA + b is the output of this layer. \n",
        "    Inputs: \n",
        "        A - numpy.ndarray (n,m) the input to the layer\n",
        "        W - numpy.ndarray (n_out, n) the weights of the layer\n",
        "        b - numpy.ndarray (n_out, 1) the bias of the layer\n",
        "    Returns:\n",
        "        Z = WA + b, where Z is the numpy.ndarray (n_out, m) dimensions\n",
        "        cache - a dictionary containing the inputs A\n",
        "    '''\n",
        "    ### CODE HERE\n",
        "    Arow,Acol=A.shape\n",
        "\n",
        "    Z = np.dot(A.T,W.T) + b.T\n",
        "    Z = Z.T\n",
        "\n",
        "    cache = {}\n",
        "    cache[\"A\"] = A\n",
        "    return Z, cache"
      ],
      "execution_count": 14,
      "outputs": []
    },
    {
      "cell_type": "markdown",
      "metadata": {
        "id": "TfLfQlNDo81e"
      },
      "source": [
        "#### `layer_forward`"
      ]
    },
    {
      "cell_type": "code",
      "metadata": {
        "id": "jJihpmK2_FIr"
      },
      "source": [
        "def layer_forward(A_prev, W, b, activation):\n",
        "    '''\n",
        "    Input A_prev propagates through the layer and the activation\n",
        "    Inputs: \n",
        "        A_prev - numpy.ndarray (n,m) the input to the layer\n",
        "        W - numpy.ndarray (n_out, n) the weights of the layer\n",
        "        b - numpy.ndarray (n_out, 1) the bias of the layer\n",
        "        activation - is the string that specifies the activation function\n",
        "    Returns:\n",
        "        A = g(Z), where Z = WA + b, where Z is the numpy.ndarray (n_out, m) \n",
        "          dimensions, and g is the the activation function\n",
        "        cache - a dictionary containing the cache from the linear and the \n",
        "          nonlinear propagation to be used for derivative\n",
        "    '''\n",
        "    Z, lin_cache = linear_forward(A_prev, W, b)\n",
        "    if activation == \"relu\":\n",
        "        A, act_cache = relu(Z)        \n",
        "    elif activation == \"linear\":\n",
        "        A, act_cache = linear(Z)\n",
        "    \n",
        "    cache = {}\n",
        "    cache[\"lin_cache\"] = lin_cache\n",
        "    cache[\"act_cache\"] = act_cache\n",
        "    return A, cache"
      ],
      "execution_count": 15,
      "outputs": []
    },
    {
      "cell_type": "markdown",
      "metadata": {
        "id": "6VMcX_6Ro55r"
      },
      "source": [
        "#### `multi_layer_forward`"
      ]
    },
    {
      "cell_type": "code",
      "metadata": {
        "id": "f1XG5WcB_9lc"
      },
      "source": [
        "def multi_layer_forward(X, parameters):\n",
        "    '''\n",
        "    Forward propagation through the layers of the network\n",
        "    Inputs: \n",
        "        X - numpy.ndarray (n,m) with n features and m samples\n",
        "        parameters - dictionary of network parameters \n",
        "           {\"W1\":[..],\"b1\":[..],\"W2\":[..],\"b2\":[..]...}\n",
        "    Returns:\n",
        "        AL - numpy.ndarray (c,m)  - outputs of the last fully connected layer \n",
        "          before softmax, where c is number of categories and m is number of \n",
        "          samples in the batch\n",
        "        caches - a dictionary of associated caches of parameters and network \n",
        "          inputs\n",
        "    '''\n",
        "    L = len(parameters)//4  \n",
        "    A = X\n",
        "    Ab = A\n",
        "    \n",
        "    caches = []\n",
        "    for l in range(1,L):  # since there is no W0 and b0\n",
        "        parameters[\"Wb\"+str(l)],parameters[\"bb\"+str(l)] = Binarize_Stochastic(\n",
        "            parameters[\"W\"+str(l)],parameters[\"b\"+str(l)])\n",
        "        A, cache = layer_forward(A,parameters[\"Wb\"+str(l)], \n",
        "                                 parameters[\"bb\"+str(l)], \"relu\")\n",
        "        #in_training_mode = tf.placeholder(tf.float64) ## ?\n",
        "        #Ak = keras.layers.BatchNormalization()      ## ?   \n",
        "        caches.append(cache)\n",
        "        \n",
        "    AL, cache = layer_forward(A, parameters[\"W\"+str(L)], \n",
        "                              parameters[\"b\"+str(L)], \"linear\")\n",
        "    caches.append(cache)\n",
        "    return AL, caches"
      ],
      "execution_count": 71,
      "outputs": []
    },
    {
      "cell_type": "markdown",
      "metadata": {
        "id": "jIrQYDQ4DOLN"
      },
      "source": [
        "### Backward propagation"
      ]
    },
    {
      "cell_type": "markdown",
      "metadata": {
        "id": "gfFwOEk_o25v"
      },
      "source": [
        "#### `linear_backward`"
      ]
    },
    {
      "cell_type": "code",
      "metadata": {
        "id": "pnYXFP67DRXl"
      },
      "source": [
        "def linear_backward(dZ, cache, W, b):\n",
        "    '''\n",
        "    Backward prpagation through the linear layer\n",
        "    Inputs:\n",
        "        dZ - numpy.ndarray (n,m) derivative dL/dz \n",
        "        cache - a dictionary containing the inputs A, for the linear layer\n",
        "            where Z = WA + b,    \n",
        "            Z is (n,m); W is (n,p); A is (p,m); b is (n,1)\n",
        "        W - numpy.ndarray (n,p)\n",
        "        b - numpy.ndarray (n, 1)\n",
        "    Returns:\n",
        "        dA_prev - numpy.ndarray (p,m) the derivative to the previous layer\n",
        "        dW - numpy.ndarray (n,p) the gradient of W \n",
        "        db - numpy.ndarray (n, 1) the gradient of b\n",
        "    '''\n",
        "    A_prev = cache[\"A\"]\n",
        "    ## CODE HERE\n",
        "    dW = np.dot(dZ, A_prev.T)    \n",
        "    db = np.sum(dZ, axis=1, keepdims=True)        \n",
        "    dA_prev = np.dot(W.T, dZ)\n",
        "    \n",
        "    return dA_prev, dW, db"
      ],
      "execution_count": 17,
      "outputs": []
    },
    {
      "cell_type": "markdown",
      "metadata": {
        "id": "rVaVtODNo0qu"
      },
      "source": [
        "#### `layer_backward`"
      ]
    },
    {
      "cell_type": "code",
      "metadata": {
        "id": "HrCCb3xaD1hv"
      },
      "source": [
        "def layer_backward(dA, cache, W, b, activation):\n",
        "    '''\n",
        "    Backward propagation through the activation and linear layer\n",
        "    Inputs:\n",
        "        dA - numpy.ndarray (n,m) the derivative to the previous layer\n",
        "        cache - dictionary containing the linear_cache and the activation_cache\n",
        "        activation - activation of the layer\n",
        "        W - numpy.ndarray (n,p)\n",
        "        b - numpy.ndarray (n, 1)\n",
        "    \n",
        "    Returns:\n",
        "        dA_prev - numpy.ndarray (p,m) the derivative to the previous layer\n",
        "        dW - numpy.ndarray (n,p) the gradient of W \n",
        "        db - numpy.ndarray (n, 1) the gradient of b\n",
        "    '''\n",
        "    lin_cache = cache[\"lin_cache\"]\n",
        "    act_cache = cache[\"act_cache\"]\n",
        "\n",
        "    if activation == \"sigmoid\":\n",
        "        dZ = sigmoid_der(dA, act_cache)\n",
        "    elif activation == \"tanh\":\n",
        "        dZ = tanh_der(dA, act_cache)\n",
        "    elif activation == \"relu\":\n",
        "        dZ = relu_der(dA, act_cache)\n",
        "    elif activation == \"linear\":\n",
        "        dZ = linear_der(dA, act_cache)\n",
        "    dA_prev, dW, db = linear_backward(dZ, lin_cache, W, b)\n",
        "    return dA_prev, dW, db"
      ],
      "execution_count": 18,
      "outputs": []
    },
    {
      "cell_type": "markdown",
      "metadata": {
        "id": "ubfuBhfuowGZ"
      },
      "source": [
        "#### `multi_layer_backward`"
      ]
    },
    {
      "cell_type": "code",
      "metadata": {
        "id": "l_imiDMLEF0M"
      },
      "source": [
        "def multi_layer_backward(dAL, caches, parameters):\n",
        "    '''\n",
        "    Back propgation through the layers of the network (except softmax \n",
        "    cross entropy) softmax_cross_entropy can be handled separately\n",
        "    Inputs: \n",
        "        dAL - numpy.ndarray (n,m) derivatives from the softmax_cross_entropy \n",
        "          layer\n",
        "        caches - a dictionary of associated caches of parameters and network \n",
        "          inputs\n",
        "        parameters - dictionary of network parameters \n",
        "          {\"W1\":[..],\"b1\":[..],\"W2\":[..],\"b2\":[..]...}\n",
        "    Returns:\n",
        "        gradients - dictionary of gradient of network parameters \n",
        "            {\"dW1\":[..],\"db1\":[..],\"dW2\":[..],\"db2\":[..],...}\n",
        "    '''\n",
        "    L = len(caches)  # with one hidden layer, L = 2\n",
        "    gradients = {}\n",
        "    dA = dAL\n",
        "    activation = \"linear\"\n",
        "    for l in reversed(range(1,L+1)):\n",
        "        dA, gradients[\"dW\"+str(l)], gradients[\"db\"+str(l)] = \\\n",
        "              layer_backward(dA, caches[l-1], parameters[\"W\"+str(l)],\n",
        "                             parameters[\"b\"+str(l)], activation)\n",
        "        activation = \"relu\"\n",
        "    return gradients"
      ],
      "execution_count": 19,
      "outputs": []
    },
    {
      "cell_type": "code",
      "metadata": {
        "colab": {
          "base_uri": "https://localhost:8080/",
          "height": 54
        },
        "id": "ThEaGZc7Efz0",
        "outputId": "a801604b-7194-44d9-c355-8c11d94a00f5"
      },
      "source": [
        "'''\n",
        "def compute_dA(A,Y):\n",
        "    #Computes dA\n",
        "    \n",
        "    Arow,Acol = Y.shape    \n",
        "    dA = -1*(np.divide(Y,A)) + np.divide((1-Y),(1-A))\n",
        "    dA = dA/Acol\n",
        "    \n",
        "    return dA\n",
        "'''"
      ],
      "execution_count": 20,
      "outputs": [
        {
          "output_type": "execute_result",
          "data": {
            "application/vnd.google.colaboratory.intrinsic+json": {
              "type": "string"
            },
            "text/plain": [
              "'\\ndef compute_dA(A,Y):\\n    #Computes dA\\n    \\n    Arow,Acol = Y.shape    \\n    dA = -1*(np.divide(Y,A)) + np.divide((1-Y),(1-A))\\n    dA = dA/Acol\\n    \\n    return dA\\n'"
            ]
          },
          "metadata": {
            "tags": []
          },
          "execution_count": 20
        }
      ]
    },
    {
      "cell_type": "markdown",
      "metadata": {
        "id": "6Z90trnwoBXs"
      },
      "source": [
        "### Evaluation and training"
      ]
    },
    {
      "cell_type": "markdown",
      "metadata": {
        "id": "xqyipXCoouhy"
      },
      "source": [
        "#### `classify`"
      ]
    },
    {
      "cell_type": "code",
      "metadata": {
        "id": "re8c4zNMEruf"
      },
      "source": [
        "def classify(X, parameters):\n",
        "    '''\n",
        "    Network prediction for inputs X\n",
        "    Inputs: \n",
        "        X - numpy.ndarray (n,m) with n features and m samples\n",
        "        parameters - dictionary of network parameters \n",
        "            {\"W1\":[..],\"b1\":[..],\"W2\":[..],\"b2\":[..],...}\n",
        "    Returns:\n",
        "        YPred - numpy.ndarray (1,m) of predictions\n",
        "    '''\n",
        "    ### CODE HERE \n",
        "    # Forward propagate X using multi_layer_forward\n",
        "    # Get predictions using softmax_cross_entropy_loss\n",
        "    # Estimate the class labels using predictions\n",
        "    AL, caches = multi_layer_forward(X, parameters)\n",
        "    A, cache, cost = softmax_cross_entropy_loss(AL)\n",
        "    \n",
        "    row,col = X.shape\n",
        "    YPred = np.zeros((col,1))\n",
        "    for i in range(0,col):\n",
        "    \t  YPred[i] = np.argmax(A.T[i])\n",
        "    \n",
        "    return YPred"
      ],
      "execution_count": 21,
      "outputs": []
    },
    {
      "cell_type": "markdown",
      "metadata": {
        "id": "yLDmraa6of2t"
      },
      "source": [
        "#### `update_parameters`"
      ]
    },
    {
      "cell_type": "code",
      "metadata": {
        "id": "reJKGA3Tn8qJ"
      },
      "source": [
        "def update_parameters(parameters, gradients, epoch, learning_rate, \n",
        "                      decay_rate=0.0):\n",
        "    '''\n",
        "    Updates the network parameters with gradient descent\n",
        "    Inputs:\n",
        "        parameters - dictionary of network parameters \n",
        "            {\"W1\":[..],\"b1\":[..],\"W2\":[..],\"b2\":[..],...}\n",
        "        gradients - dictionary of gradient of network parameters \n",
        "            {\"dW1\":[..],\"db1\":[..],\"dW2\":[..],\"db2\":[..],...}\n",
        "        epoch - epoch number\n",
        "        learning_rate - step size for learning\n",
        "        decay_rate - rate of decay of step size - not necessary - in case you \n",
        "        want to use\n",
        "    '''\n",
        "    alpha = learning_rate*(1/(1+decay_rate*epoch))\n",
        "    L = len(parameters)//4    \n",
        "    ### CODE HERE \n",
        "    for l in range(1,L):\n",
        "    \tparameters[\"W\"+str(l)] = parameters[\"W\"+str(l)] \\\n",
        "                               -(alpha*gradients[\"dW\"+str(l)])\n",
        "    \tparameters[\"b\"+str(l)] = parameters[\"b\"+str(l)]\\\n",
        "                               -(alpha*gradients[\"db\"+str(l)])\n",
        "\n",
        "    return parameters, alpha"
      ],
      "execution_count": 22,
      "outputs": []
    },
    {
      "cell_type": "markdown",
      "metadata": {
        "id": "LnVk85iApvg8"
      },
      "source": [
        "#### `multi_layer_network`"
      ]
    },
    {
      "cell_type": "code",
      "metadata": {
        "id": "5HAAUzRopunr"
      },
      "source": [
        "def multi_layer_network(batch, parameters, X, Y, VD, VL, net_dims, \n",
        "                        num_iterations=500, learning_rate=0.2, decay_rate=0.01):\n",
        "    '''\n",
        "    Creates the multilayer network and trains the network\n",
        "    Inputs:\n",
        "        X - numpy.ndarray (n,m) of training data\n",
        "        Y - numpy.ndarray (1,m) of training data labels\n",
        "        net_dims - tuple of layer dimensions\n",
        "        num_iterations - num of epochs to train\n",
        "        learning_rate - step size for gradient descent\n",
        "    \n",
        "    Returns:\n",
        "        costs - list of costs over training\n",
        "        parameters - dictionary of trained network parameters\n",
        "    '''\n",
        "    # parameters = initialize_multilayer_weights(net_dims)    \n",
        "    A0 = X\n",
        "    costs, Vcosts = [], []\n",
        "    \n",
        "    for ii in range(num_iterations):\n",
        "        ### CODE HERE\n",
        "        # Forward Prop\n",
        "        ## call to multi_layer_forward to get activations\n",
        "        AL, caches = multi_layer_forward(A0, parameters)\n",
        "        \n",
        "        ## call to softmax cross entropy loss\n",
        "        A, cache, cost = softmax_cross_entropy_loss(AL, Y)\n",
        "        \n",
        "        # Validation Costs\n",
        "        VAL, Vcaches = multi_layer_forward(VD, parameters)\n",
        "        VA, Vcache, Vcost = softmax_cross_entropy_loss(VAL, VL)\n",
        "        \n",
        "        # Backward Prop\n",
        "        ## call to softmax cross entropy loss der\n",
        "        dZ = softmax_cross_entropy_loss_der(Y, cache)\n",
        "        \n",
        "        ## call to multi_layer_backward to get gradients\n",
        "        gradients = multi_layer_backward(dZ, caches, parameters)\n",
        "        \n",
        "        ## call to update the parameters\n",
        "        parameters, alpha = update_parameters(parameters, gradients, ii, \n",
        "                                              learning_rate, decay_rate)\n",
        "\n",
        "        if batch % 9 == 0 and batch!=0:\n",
        "            costs.append(cost)\n",
        "            Vcosts.append(Vcost)\n",
        "        if ii % 10 == 0:\n",
        "            print(\"Train Cost at iteration {:d} is:\".format(ii)+\\\n",
        "                  \" {:0.5f}, learning rate: {:0.5f}\\n\".format(cost, alpha)+\\\n",
        "                  \"Validation Cost at iteration {:d} is:\".format(ii)+\\\n",
        "                  \" {:0.5f}, learning rate: {:0.5f}\" .format(Vcost, alpha))\n",
        "    \n",
        "    return costs, Vcosts, parameters"
      ],
      "execution_count": 75,
      "outputs": []
    },
    {
      "cell_type": "markdown",
      "metadata": {
        "id": "5CHyLGKmrYW1"
      },
      "source": [
        "#### `calculateAccuracy`"
      ]
    },
    {
      "cell_type": "code",
      "metadata": {
        "id": "ig4hkYRurYsS"
      },
      "source": [
        "def calculateAccuracy(pred,label):\n",
        "    counter=0\n",
        "    for i in range(0,pred.size-1):\n",
        "\t    if pred[0][i]==label[0][i]:\n",
        "\t      counter = counter+1\n",
        "\t\n",
        "    accuracy = counter*(1.0)/pred.size\n",
        "    return accuracy"
      ],
      "execution_count": 24,
      "outputs": []
    },
    {
      "cell_type": "markdown",
      "metadata": {
        "id": "G-FqVWiarh3p"
      },
      "source": [
        "#### `train_validation_split`"
      ]
    },
    {
      "cell_type": "code",
      "metadata": {
        "id": "-YpGnxZsriP5"
      },
      "source": [
        "def train_validation_split(train_data,train_label):\n",
        "    \n",
        "    tv_data = np.split(train_data.T,[5000,6000,11000,12000,17000,18000,23000,\n",
        "                                     24000,29000,30000,35000,36000,41000,42000,\n",
        "                                     47000,48000,53000,54000,59000])\n",
        "    tvl_data = np.split(train_label.T,[5000,6000,11000,12000,17000,18000,23000,\n",
        "                                       24000,29000,30000,35000,36000,41000,42000,\n",
        "                                       47000,48000,53000,54000,59000])\n",
        "    \n",
        "    train_data = []\n",
        "    train_label = []\n",
        "    \n",
        "    train_data = tv_data[0]\n",
        "    train_label = tvl_data[0]\n",
        "    validation_data = tv_data[1]\n",
        "    validation_label = tvl_data[1]    \n",
        "    \n",
        "    for i in range(2,len(tv_data)):\n",
        "        if i%2==0:\n",
        "            train_data = np.append(train_data, tv_data[i], axis=0)\n",
        "            train_label = np.append(train_label, tvl_data[i], axis=0)\n",
        "        else:\n",
        "            validation_data = np.append(validation_data, tv_data[i], axis=0)\n",
        "            validation_label = np.append(validation_label, tvl_data[i], axis=0)\n",
        "\t    \n",
        "    \n",
        "\n",
        "    train_data = train_data.T\n",
        "    train_label = train_label.T\n",
        "    validation_data = validation_data.T\n",
        "    validation_label = validation_label.T\n",
        "    return train_data, train_label, validation_data, validation_label"
      ],
      "execution_count": 45,
      "outputs": []
    },
    {
      "cell_type": "markdown",
      "metadata": {
        "id": "PoXQUdW9r7oK"
      },
      "source": [
        "#### `main`"
      ]
    },
    {
      "cell_type": "code",
      "metadata": {
        "id": "S-_SCYJer8GX"
      },
      "source": [
        "def main(net_dims):\n",
        "    '''\n",
        "    Trains a multilayer network for MNIST digit classification (all 10 digits)\n",
        "    To create a network with 1 hidden layer of dimensions 800\n",
        "    Run the progam as:\n",
        "        python deepMultiClassNetwork_starter.py \"[784,800]\"\n",
        "    The network will have the dimensions [784,800,10]\n",
        "    784 is the input size of digit images (28pix x 28pix = 784)\n",
        "    10 is the number of digits\n",
        "    To create a network with 2 hidden layers of dimensions 800 and 500\n",
        "    Run the progam as:\n",
        "        python deepMultiClassNetwork_starter.py \"[784,800,500]\"\n",
        "    The network will have the dimensions [784,800,500,10]\n",
        "    784 is the input size of digit images (28pix x 28pix = 784)\n",
        "    10 is the number of digits\n",
        "    '''\n",
        "    #net_dims = ast.literal_eval( sys.argv[1] )\n",
        "    net_dims.append(10) # Adding the digits layer with dimensionality = 10\n",
        "    print(\"Network dimensions are:\" + str(net_dims))\n",
        "\n",
        "    # getting the subset dataset from MNIST\n",
        "    train_data, train_label, test_data, test_label = \\\n",
        "            mnist(noTrSamples=50000, noTsSamples=8000,\n",
        "                  digit_range=[0,1,2,3,4,5,6,7,8,9],\n",
        "                  noTrPerClass=5000, noTsPerClass=800)    \n",
        "\n",
        "    train_data, validation_data,train_label, validation_label = \\\n",
        "      train_test_split(train_data.T, train_label.T, test_size=8000,\n",
        "                       train_size=42000, random_state=42)\n",
        "    \n",
        "    learning_rate = 0.2\n",
        "    num_iterations = 1\n",
        "    epochs = 10\n",
        "    parameters = initialize_multilayer_weights(net_dims)\n",
        "            \n",
        "    process = psutil.Process(os.getpid())\n",
        "    total_time = 0\n",
        "    times, costs, Vcosts = [], [], []\n",
        "    for j in range(0,epochs):\n",
        "        start = time.time()\n",
        "        for i in range(0,10):\n",
        "            print(\"EPOCH----------------------------->= \"+str(j))\n",
        "            print(\"BATCH----------------------------->= \"+str(i))\n",
        "            mini_train_data=train_data[i*4200 : (i*4200)+4200]\n",
        "            mini_train_label=train_label[i*4200 : (i*4200)+4200]\n",
        "            mini_train_data=mini_train_data.T\n",
        "            mini_train_label=mini_train_label.T\n",
        "        \n",
        "            cost, Vcost, parameters = \\\n",
        "              multi_layer_network(i, parameters, \n",
        "                                  mini_train_data, mini_train_label, \n",
        "                                  validation_data.T, validation_label.T, \n",
        "                                  net_dims, num_iterations=num_iterations, \n",
        "                                  learning_rate=learning_rate)\n",
        "\n",
        "        timetaken = time.time()-start\n",
        "        total_time = total_time+timetaken\n",
        "        print(\"TIME TAKEN=> \" + str(timetaken)+\" seconds\")\n",
        "        print(process.memory_info().rss)\n",
        "        times.append(timetaken)\n",
        "        costs.append(cost[0])\n",
        "        Vcosts.append(Vcost[0])\n",
        "        print(costs)\n",
        "        print(Vcosts)\n",
        "\n",
        "    print(\"TOTAL TIME TAKEN=\"+str(total_time))\n",
        "    # compute the accuracy for training set and testing set\n",
        "    train_Pred = classify(train_data.T, parameters)\n",
        "    test_Pred = classify(test_data, parameters)    \n",
        "    trAcc = calculateAccuracy(train_Pred.T, train_label.T)\n",
        "    teAcc = calculateAccuracy(test_Pred.T, test_label)\n",
        "\n",
        "    print(\"Accuracy for training set is {0:0.3f} %\".format(trAcc))\n",
        "    print(\"Accuracy for testing set is {0:0.3f} %\".format(teAcc))\n",
        "    \n",
        "    \n",
        "    print(\"MEMORY USAGE FOR TOTAL EPOCHS----->\"+\n",
        "          str((process.memory_info().rss * 0.001)/784)+\"MB\")\n",
        "    \n",
        "    ## CODE HERE to plot costs\n",
        "    #train error vs iterations here\n",
        "    x=[]\n",
        "    for i in range(0,epochs):\n",
        "    \tx.append(i)\n",
        "    print(costs)\n",
        "    print(Vcosts)\n",
        "    print(x)\n",
        "    plt.plot(x,costs)#,'ro')\n",
        "    plt.plot(x,Vcosts)#,'b^')\n",
        "    plt.show()\n",
        "    plt.plot(x,times)\n",
        "    plt.show()"
      ],
      "execution_count": 84,
      "outputs": []
    },
    {
      "cell_type": "code",
      "metadata": {
        "colab": {
          "base_uri": "https://localhost:8080/",
          "height": 1000
        },
        "id": "7zbJsXVcs66D",
        "outputId": "8de48ad0-b7ea-4187-ec91-706e0dd86d1d"
      },
      "source": [
        "main([784,800,500])"
      ],
      "execution_count": 86,
      "outputs": [
        {
          "output_type": "stream",
          "text": [
            "Network dimensions are:[784, 800, 500, 10]\n",
            "EPOCH----------------------------->= 0\n",
            "BATCH----------------------------->= 0\n",
            "Train Cost at iteration 0 is: 5.91938, learning rate: 0.20000\n",
            "Validation Cost at iteration 0 is: 5.92477, learning rate: 0.20000\n",
            "EPOCH----------------------------->= 0\n",
            "BATCH----------------------------->= 1\n"
          ],
          "name": "stdout"
        },
        {
          "output_type": "stream",
          "text": [
            "/usr/local/lib/python3.7/dist-packages/ipykernel_launcher.py:15: RuntimeWarning: divide by zero encountered in log\n",
            "  from ipykernel import kernelapp as app\n",
            "/usr/local/lib/python3.7/dist-packages/ipykernel_launcher.py:17: RuntimeWarning: invalid value encountered in multiply\n"
          ],
          "name": "stderr"
        },
        {
          "output_type": "stream",
          "text": [
            "Train Cost at iteration 0 is: nan, learning rate: 0.20000\n",
            "Validation Cost at iteration 0 is: nan, learning rate: 0.20000\n",
            "EPOCH----------------------------->= 0\n",
            "BATCH----------------------------->= 2\n",
            "Train Cost at iteration 0 is: 60.94720, learning rate: 0.20000\n",
            "Validation Cost at iteration 0 is: 59.67872, learning rate: 0.20000\n",
            "EPOCH----------------------------->= 0\n",
            "BATCH----------------------------->= 3\n",
            "Train Cost at iteration 0 is: 15.01419, learning rate: 0.20000\n",
            "Validation Cost at iteration 0 is: 15.36914, learning rate: 0.20000\n",
            "EPOCH----------------------------->= 0\n",
            "BATCH----------------------------->= 4\n",
            "Train Cost at iteration 0 is: 5.64476, learning rate: 0.20000\n",
            "Validation Cost at iteration 0 is: 5.59635, learning rate: 0.20000\n",
            "EPOCH----------------------------->= 0\n",
            "BATCH----------------------------->= 5\n",
            "Train Cost at iteration 0 is: 3.19489, learning rate: 0.20000\n",
            "Validation Cost at iteration 0 is: 3.21996, learning rate: 0.20000\n",
            "EPOCH----------------------------->= 0\n",
            "BATCH----------------------------->= 6\n",
            "Train Cost at iteration 0 is: 2.24002, learning rate: 0.20000\n",
            "Validation Cost at iteration 0 is: 2.22636, learning rate: 0.20000\n",
            "EPOCH----------------------------->= 0\n",
            "BATCH----------------------------->= 7\n",
            "Train Cost at iteration 0 is: 3.18329, learning rate: 0.20000\n",
            "Validation Cost at iteration 0 is: 3.21261, learning rate: 0.20000\n",
            "EPOCH----------------------------->= 0\n",
            "BATCH----------------------------->= 8\n",
            "Train Cost at iteration 0 is: 2.22327, learning rate: 0.20000\n",
            "Validation Cost at iteration 0 is: 2.20514, learning rate: 0.20000\n",
            "EPOCH----------------------------->= 0\n",
            "BATCH----------------------------->= 9\n",
            "Train Cost at iteration 0 is: 3.07665, learning rate: 0.20000\n",
            "Validation Cost at iteration 0 is: 2.99783, learning rate: 0.20000\n",
            "TIME TAKEN=> 12.631496906280518 seconds\n",
            "6695370752\n",
            "[3.0766514821623896]\n",
            "[2.99783356144783]\n",
            "EPOCH----------------------------->= 1\n",
            "BATCH----------------------------->= 0\n",
            "Train Cost at iteration 0 is: 2.17399, learning rate: 0.20000\n",
            "Validation Cost at iteration 0 is: 2.17101, learning rate: 0.20000\n",
            "EPOCH----------------------------->= 1\n",
            "BATCH----------------------------->= 1\n",
            "Train Cost at iteration 0 is: 2.28525, learning rate: 0.20000\n",
            "Validation Cost at iteration 0 is: 2.29268, learning rate: 0.20000\n",
            "EPOCH----------------------------->= 1\n",
            "BATCH----------------------------->= 2\n",
            "Train Cost at iteration 0 is: 2.30133, learning rate: 0.20000\n",
            "Validation Cost at iteration 0 is: 2.30120, learning rate: 0.20000\n",
            "EPOCH----------------------------->= 1\n",
            "BATCH----------------------------->= 3\n",
            "Train Cost at iteration 0 is: 2.29285, learning rate: 0.20000\n",
            "Validation Cost at iteration 0 is: 2.29146, learning rate: 0.20000\n",
            "EPOCH----------------------------->= 1\n",
            "BATCH----------------------------->= 4\n",
            "Train Cost at iteration 0 is: 2.17657, learning rate: 0.20000\n",
            "Validation Cost at iteration 0 is: 2.17601, learning rate: 0.20000\n",
            "EPOCH----------------------------->= 1\n",
            "BATCH----------------------------->= 5\n",
            "Train Cost at iteration 0 is: 9.91714, learning rate: 0.20000\n",
            "Validation Cost at iteration 0 is: 9.82251, learning rate: 0.20000\n",
            "EPOCH----------------------------->= 1\n",
            "BATCH----------------------------->= 6\n",
            "Train Cost at iteration 0 is: 3.51056, learning rate: 0.20000\n",
            "Validation Cost at iteration 0 is: 3.47134, learning rate: 0.20000\n",
            "EPOCH----------------------------->= 1\n",
            "BATCH----------------------------->= 7\n",
            "Train Cost at iteration 0 is: 2.15188, learning rate: 0.20000\n",
            "Validation Cost at iteration 0 is: 2.13724, learning rate: 0.20000\n",
            "EPOCH----------------------------->= 1\n",
            "BATCH----------------------------->= 8\n",
            "Train Cost at iteration 0 is: 2.18500, learning rate: 0.20000\n",
            "Validation Cost at iteration 0 is: 2.15574, learning rate: 0.20000\n",
            "EPOCH----------------------------->= 1\n",
            "BATCH----------------------------->= 9\n",
            "Train Cost at iteration 0 is: 2.25715, learning rate: 0.20000\n",
            "Validation Cost at iteration 0 is: 2.25570, learning rate: 0.20000\n",
            "TIME TAKEN=> 12.518409490585327 seconds\n",
            "6695370752\n",
            "[3.0766514821623896, 2.257147407817577]\n",
            "[2.99783356144783, 2.2556997055876904]\n",
            "EPOCH----------------------------->= 2\n",
            "BATCH----------------------------->= 0\n",
            "Train Cost at iteration 0 is: 2.29834, learning rate: 0.20000\n",
            "Validation Cost at iteration 0 is: 2.29935, learning rate: 0.20000\n",
            "EPOCH----------------------------->= 2\n",
            "BATCH----------------------------->= 1\n",
            "Train Cost at iteration 0 is: 2.29229, learning rate: 0.20000\n",
            "Validation Cost at iteration 0 is: 2.28981, learning rate: 0.20000\n",
            "EPOCH----------------------------->= 2\n",
            "BATCH----------------------------->= 2\n",
            "Train Cost at iteration 0 is: 2.27125, learning rate: 0.20000\n",
            "Validation Cost at iteration 0 is: 2.27071, learning rate: 0.20000\n",
            "EPOCH----------------------------->= 2\n",
            "BATCH----------------------------->= 3\n",
            "Train Cost at iteration 0 is: 2.51919, learning rate: 0.20000\n",
            "Validation Cost at iteration 0 is: 2.54697, learning rate: 0.20000\n",
            "EPOCH----------------------------->= 2\n",
            "BATCH----------------------------->= 4\n",
            "Train Cost at iteration 0 is: 2.16176, learning rate: 0.20000\n",
            "Validation Cost at iteration 0 is: 2.14744, learning rate: 0.20000\n",
            "EPOCH----------------------------->= 2\n",
            "BATCH----------------------------->= 5\n",
            "Train Cost at iteration 0 is: 2.13835, learning rate: 0.20000\n",
            "Validation Cost at iteration 0 is: 2.12357, learning rate: 0.20000\n",
            "EPOCH----------------------------->= 2\n",
            "BATCH----------------------------->= 6\n",
            "Train Cost at iteration 0 is: 2.12198, learning rate: 0.20000\n",
            "Validation Cost at iteration 0 is: 2.12153, learning rate: 0.20000\n",
            "EPOCH----------------------------->= 2\n",
            "BATCH----------------------------->= 7\n",
            "Train Cost at iteration 0 is: 2.07421, learning rate: 0.20000\n",
            "Validation Cost at iteration 0 is: 2.05968, learning rate: 0.20000\n",
            "EPOCH----------------------------->= 2\n",
            "BATCH----------------------------->= 8\n",
            "Train Cost at iteration 0 is: 3.92397, learning rate: 0.20000\n",
            "Validation Cost at iteration 0 is: 3.90974, learning rate: 0.20000\n",
            "EPOCH----------------------------->= 2\n",
            "BATCH----------------------------->= 9\n",
            "Train Cost at iteration 0 is: 2.14427, learning rate: 0.20000\n",
            "Validation Cost at iteration 0 is: 2.15021, learning rate: 0.20000\n",
            "TIME TAKEN=> 12.519635438919067 seconds\n",
            "6695370752\n",
            "[3.0766514821623896, 2.257147407817577, 2.144272699275865]\n",
            "[2.99783356144783, 2.2556997055876904, 2.1502113223212946]\n",
            "EPOCH----------------------------->= 3\n",
            "BATCH----------------------------->= 0\n",
            "Train Cost at iteration 0 is: 2.23805, learning rate: 0.20000\n",
            "Validation Cost at iteration 0 is: 2.23899, learning rate: 0.20000\n",
            "EPOCH----------------------------->= 3\n",
            "BATCH----------------------------->= 1\n",
            "Train Cost at iteration 0 is: 2.14666, learning rate: 0.20000\n",
            "Validation Cost at iteration 0 is: 2.13551, learning rate: 0.20000\n",
            "EPOCH----------------------------->= 3\n",
            "BATCH----------------------------->= 2\n",
            "Train Cost at iteration 0 is: 2.21638, learning rate: 0.20000\n",
            "Validation Cost at iteration 0 is: 2.22988, learning rate: 0.20000\n",
            "EPOCH----------------------------->= 3\n",
            "BATCH----------------------------->= 3\n",
            "Train Cost at iteration 0 is: 2.14116, learning rate: 0.20000\n",
            "Validation Cost at iteration 0 is: 2.12155, learning rate: 0.20000\n",
            "EPOCH----------------------------->= 3\n",
            "BATCH----------------------------->= 4\n",
            "Train Cost at iteration 0 is: 2.13865, learning rate: 0.20000\n",
            "Validation Cost at iteration 0 is: 2.12590, learning rate: 0.20000\n",
            "EPOCH----------------------------->= 3\n",
            "BATCH----------------------------->= 5\n",
            "Train Cost at iteration 0 is: 2.11531, learning rate: 0.20000\n",
            "Validation Cost at iteration 0 is: 2.10012, learning rate: 0.20000\n",
            "EPOCH----------------------------->= 3\n",
            "BATCH----------------------------->= 6\n",
            "Train Cost at iteration 0 is: 2.03295, learning rate: 0.20000\n",
            "Validation Cost at iteration 0 is: 2.02479, learning rate: 0.20000\n",
            "EPOCH----------------------------->= 3\n",
            "BATCH----------------------------->= 7\n",
            "Train Cost at iteration 0 is: 4.53745, learning rate: 0.20000\n",
            "Validation Cost at iteration 0 is: 4.55556, learning rate: 0.20000\n",
            "EPOCH----------------------------->= 3\n",
            "BATCH----------------------------->= 8\n",
            "Train Cost at iteration 0 is: 2.12509, learning rate: 0.20000\n",
            "Validation Cost at iteration 0 is: 2.09938, learning rate: 0.20000\n",
            "EPOCH----------------------------->= 3\n",
            "BATCH----------------------------->= 9\n",
            "Train Cost at iteration 0 is: 2.06937, learning rate: 0.20000\n",
            "Validation Cost at iteration 0 is: 2.07494, learning rate: 0.20000\n",
            "TIME TAKEN=> 12.481806755065918 seconds\n",
            "6695370752\n",
            "[3.0766514821623896, 2.257147407817577, 2.144272699275865, 2.0693699244459745]\n",
            "[2.99783356144783, 2.2556997055876904, 2.1502113223212946, 2.0749370796815927]\n",
            "EPOCH----------------------------->= 4\n",
            "BATCH----------------------------->= 0\n",
            "Train Cost at iteration 0 is: 2.04221, learning rate: 0.20000\n",
            "Validation Cost at iteration 0 is: 2.03014, learning rate: 0.20000\n",
            "EPOCH----------------------------->= 4\n",
            "BATCH----------------------------->= 1\n",
            "Train Cost at iteration 0 is: 2.01248, learning rate: 0.20000\n",
            "Validation Cost at iteration 0 is: 2.00924, learning rate: 0.20000\n",
            "EPOCH----------------------------->= 4\n",
            "BATCH----------------------------->= 2\n",
            "Train Cost at iteration 0 is: 1.97834, learning rate: 0.20000\n",
            "Validation Cost at iteration 0 is: 1.98859, learning rate: 0.20000\n",
            "EPOCH----------------------------->= 4\n",
            "BATCH----------------------------->= 3\n",
            "Train Cost at iteration 0 is: 2.00496, learning rate: 0.20000\n",
            "Validation Cost at iteration 0 is: 1.99514, learning rate: 0.20000\n",
            "EPOCH----------------------------->= 4\n",
            "BATCH----------------------------->= 4\n",
            "Train Cost at iteration 0 is: 2.04600, learning rate: 0.20000\n",
            "Validation Cost at iteration 0 is: 2.02332, learning rate: 0.20000\n",
            "EPOCH----------------------------->= 4\n",
            "BATCH----------------------------->= 5\n",
            "Train Cost at iteration 0 is: 2.11115, learning rate: 0.20000\n",
            "Validation Cost at iteration 0 is: 2.09457, learning rate: 0.20000\n",
            "EPOCH----------------------------->= 4\n",
            "BATCH----------------------------->= 6\n",
            "Train Cost at iteration 0 is: 2.07312, learning rate: 0.20000\n",
            "Validation Cost at iteration 0 is: 2.07099, learning rate: 0.20000\n",
            "EPOCH----------------------------->= 4\n",
            "BATCH----------------------------->= 7\n",
            "Train Cost at iteration 0 is: 2.00046, learning rate: 0.20000\n",
            "Validation Cost at iteration 0 is: 1.98718, learning rate: 0.20000\n",
            "EPOCH----------------------------->= 4\n",
            "BATCH----------------------------->= 8\n",
            "Train Cost at iteration 0 is: 1.95797, learning rate: 0.20000\n",
            "Validation Cost at iteration 0 is: 1.94415, learning rate: 0.20000\n",
            "EPOCH----------------------------->= 4\n",
            "BATCH----------------------------->= 9\n",
            "Train Cost at iteration 0 is: 1.94625, learning rate: 0.20000\n",
            "Validation Cost at iteration 0 is: 1.94878, learning rate: 0.20000\n",
            "TIME TAKEN=> 12.514329195022583 seconds\n",
            "6695370752\n",
            "[3.0766514821623896, 2.257147407817577, 2.144272699275865, 2.0693699244459745, 1.9462494662814975]\n",
            "[2.99783356144783, 2.2556997055876904, 2.1502113223212946, 2.0749370796815927, 1.9487754844104237]\n",
            "EPOCH----------------------------->= 5\n",
            "BATCH----------------------------->= 0\n",
            "Train Cost at iteration 0 is: 1.94684, learning rate: 0.20000\n",
            "Validation Cost at iteration 0 is: 1.95014, learning rate: 0.20000\n",
            "EPOCH----------------------------->= 5\n",
            "BATCH----------------------------->= 1\n",
            "Train Cost at iteration 0 is: 1.92997, learning rate: 0.20000\n",
            "Validation Cost at iteration 0 is: 1.93604, learning rate: 0.20000\n",
            "EPOCH----------------------------->= 5\n",
            "BATCH----------------------------->= 2\n",
            "Train Cost at iteration 0 is: 1.92584, learning rate: 0.20000\n",
            "Validation Cost at iteration 0 is: 1.93684, learning rate: 0.20000\n",
            "EPOCH----------------------------->= 5\n",
            "BATCH----------------------------->= 3\n",
            "Train Cost at iteration 0 is: 1.94247, learning rate: 0.20000\n",
            "Validation Cost at iteration 0 is: 1.94274, learning rate: 0.20000\n",
            "EPOCH----------------------------->= 5\n",
            "BATCH----------------------------->= 4\n",
            "Train Cost at iteration 0 is: 1.95492, learning rate: 0.20000\n",
            "Validation Cost at iteration 0 is: 1.94347, learning rate: 0.20000\n",
            "EPOCH----------------------------->= 5\n",
            "BATCH----------------------------->= 5\n",
            "Train Cost at iteration 0 is: 1.94515, learning rate: 0.20000\n",
            "Validation Cost at iteration 0 is: 1.92486, learning rate: 0.20000\n",
            "EPOCH----------------------------->= 5\n",
            "BATCH----------------------------->= 6\n",
            "Train Cost at iteration 0 is: 1.94820, learning rate: 0.20000\n",
            "Validation Cost at iteration 0 is: 1.93469, learning rate: 0.20000\n",
            "EPOCH----------------------------->= 5\n",
            "BATCH----------------------------->= 7\n",
            "Train Cost at iteration 0 is: 1.98627, learning rate: 0.20000\n",
            "Validation Cost at iteration 0 is: 1.97108, learning rate: 0.20000\n",
            "EPOCH----------------------------->= 5\n",
            "BATCH----------------------------->= 8\n",
            "Train Cost at iteration 0 is: 1.98040, learning rate: 0.20000\n",
            "Validation Cost at iteration 0 is: 1.97339, learning rate: 0.20000\n",
            "EPOCH----------------------------->= 5\n",
            "BATCH----------------------------->= 9\n",
            "Train Cost at iteration 0 is: 1.94357, learning rate: 0.20000\n",
            "Validation Cost at iteration 0 is: 1.94767, learning rate: 0.20000\n",
            "TIME TAKEN=> 12.525530576705933 seconds\n",
            "6695370752\n",
            "[3.0766514821623896, 2.257147407817577, 2.144272699275865, 2.0693699244459745, 1.9462494662814975, 1.9435727870930954]\n",
            "[2.99783356144783, 2.2556997055876904, 2.1502113223212946, 2.0749370796815927, 1.9487754844104237, 1.9476651720620375]\n",
            "EPOCH----------------------------->= 6\n",
            "BATCH----------------------------->= 0\n",
            "Train Cost at iteration 0 is: 1.92308, learning rate: 0.20000\n",
            "Validation Cost at iteration 0 is: 1.92804, learning rate: 0.20000\n",
            "EPOCH----------------------------->= 6\n",
            "BATCH----------------------------->= 1\n",
            "Train Cost at iteration 0 is: 1.91521, learning rate: 0.20000\n",
            "Validation Cost at iteration 0 is: 1.91835, learning rate: 0.20000\n",
            "EPOCH----------------------------->= 6\n",
            "BATCH----------------------------->= 2\n",
            "Train Cost at iteration 0 is: 1.92108, learning rate: 0.20000\n",
            "Validation Cost at iteration 0 is: 1.93362, learning rate: 0.20000\n",
            "EPOCH----------------------------->= 6\n",
            "BATCH----------------------------->= 3\n",
            "Train Cost at iteration 0 is: 1.93889, learning rate: 0.20000\n",
            "Validation Cost at iteration 0 is: 1.93001, learning rate: 0.20000\n",
            "EPOCH----------------------------->= 6\n",
            "BATCH----------------------------->= 4\n",
            "Train Cost at iteration 0 is: 1.94521, learning rate: 0.20000\n",
            "Validation Cost at iteration 0 is: 1.92940, learning rate: 0.20000\n",
            "EPOCH----------------------------->= 6\n",
            "BATCH----------------------------->= 5\n",
            "Train Cost at iteration 0 is: 1.95091, learning rate: 0.20000\n",
            "Validation Cost at iteration 0 is: 1.93283, learning rate: 0.20000\n",
            "EPOCH----------------------------->= 6\n",
            "BATCH----------------------------->= 6\n",
            "Train Cost at iteration 0 is: 1.92922, learning rate: 0.20000\n",
            "Validation Cost at iteration 0 is: 1.91535, learning rate: 0.20000\n",
            "EPOCH----------------------------->= 6\n",
            "BATCH----------------------------->= 7\n",
            "Train Cost at iteration 0 is: 1.92337, learning rate: 0.20000\n",
            "Validation Cost at iteration 0 is: 1.91017, learning rate: 0.20000\n",
            "EPOCH----------------------------->= 6\n",
            "BATCH----------------------------->= 8\n",
            "Train Cost at iteration 0 is: 1.91737, learning rate: 0.20000\n",
            "Validation Cost at iteration 0 is: 1.90094, learning rate: 0.20000\n",
            "EPOCH----------------------------->= 6\n",
            "BATCH----------------------------->= 9\n",
            "Train Cost at iteration 0 is: 1.89983, learning rate: 0.20000\n",
            "Validation Cost at iteration 0 is: 1.90116, learning rate: 0.20000\n",
            "TIME TAKEN=> 12.789942264556885 seconds\n",
            "6695370752\n",
            "[3.0766514821623896, 2.257147407817577, 2.144272699275865, 2.0693699244459745, 1.9462494662814975, 1.9435727870930954, 1.8998327617717328]\n",
            "[2.99783356144783, 2.2556997055876904, 2.1502113223212946, 2.0749370796815927, 1.9487754844104237, 1.9476651720620375, 1.901159374341146]\n",
            "EPOCH----------------------------->= 7\n",
            "BATCH----------------------------->= 0\n",
            "Train Cost at iteration 0 is: 1.92312, learning rate: 0.20000\n",
            "Validation Cost at iteration 0 is: 1.92258, learning rate: 0.20000\n",
            "EPOCH----------------------------->= 7\n",
            "BATCH----------------------------->= 1\n",
            "Train Cost at iteration 0 is: 1.92776, learning rate: 0.20000\n",
            "Validation Cost at iteration 0 is: 1.93388, learning rate: 0.20000\n",
            "EPOCH----------------------------->= 7\n",
            "BATCH----------------------------->= 2\n",
            "Train Cost at iteration 0 is: 1.89639, learning rate: 0.20000\n",
            "Validation Cost at iteration 0 is: 1.90821, learning rate: 0.20000\n",
            "EPOCH----------------------------->= 7\n",
            "BATCH----------------------------->= 3\n",
            "Train Cost at iteration 0 is: 1.90503, learning rate: 0.20000\n",
            "Validation Cost at iteration 0 is: 1.89860, learning rate: 0.20000\n",
            "EPOCH----------------------------->= 7\n",
            "BATCH----------------------------->= 4\n",
            "Train Cost at iteration 0 is: 1.95748, learning rate: 0.20000\n",
            "Validation Cost at iteration 0 is: 1.93507, learning rate: 0.20000\n",
            "EPOCH----------------------------->= 7\n",
            "BATCH----------------------------->= 5\n",
            "Train Cost at iteration 0 is: 1.94687, learning rate: 0.20000\n",
            "Validation Cost at iteration 0 is: 1.92780, learning rate: 0.20000\n",
            "EPOCH----------------------------->= 7\n",
            "BATCH----------------------------->= 6\n",
            "Train Cost at iteration 0 is: 1.90031, learning rate: 0.20000\n",
            "Validation Cost at iteration 0 is: 1.88828, learning rate: 0.20000\n",
            "EPOCH----------------------------->= 7\n",
            "BATCH----------------------------->= 7\n",
            "Train Cost at iteration 0 is: 1.89579, learning rate: 0.20000\n",
            "Validation Cost at iteration 0 is: 1.88647, learning rate: 0.20000\n",
            "EPOCH----------------------------->= 7\n",
            "BATCH----------------------------->= 8\n",
            "Train Cost at iteration 0 is: 1.90347, learning rate: 0.20000\n",
            "Validation Cost at iteration 0 is: 1.88456, learning rate: 0.20000\n",
            "EPOCH----------------------------->= 7\n",
            "BATCH----------------------------->= 9\n",
            "Train Cost at iteration 0 is: 1.90346, learning rate: 0.20000\n",
            "Validation Cost at iteration 0 is: 1.90389, learning rate: 0.20000\n",
            "TIME TAKEN=> 12.683941841125488 seconds\n",
            "6695370752\n",
            "[3.0766514821623896, 2.257147407817577, 2.144272699275865, 2.0693699244459745, 1.9462494662814975, 1.9435727870930954, 1.8998327617717328, 1.9034641497665106]\n",
            "[2.99783356144783, 2.2556997055876904, 2.1502113223212946, 2.0749370796815927, 1.9487754844104237, 1.9476651720620375, 1.901159374341146, 1.9038856302413365]\n",
            "EPOCH----------------------------->= 8\n",
            "BATCH----------------------------->= 0\n",
            "Train Cost at iteration 0 is: 1.89574, learning rate: 0.20000\n",
            "Validation Cost at iteration 0 is: 1.89638, learning rate: 0.20000\n",
            "EPOCH----------------------------->= 8\n",
            "BATCH----------------------------->= 1\n",
            "Train Cost at iteration 0 is: 1.91268, learning rate: 0.20000\n",
            "Validation Cost at iteration 0 is: 1.92475, learning rate: 0.20000\n",
            "EPOCH----------------------------->= 8\n",
            "BATCH----------------------------->= 2\n",
            "Train Cost at iteration 0 is: 1.89927, learning rate: 0.20000\n",
            "Validation Cost at iteration 0 is: 1.91380, learning rate: 0.20000\n",
            "EPOCH----------------------------->= 8\n",
            "BATCH----------------------------->= 3\n",
            "Train Cost at iteration 0 is: 1.89165, learning rate: 0.20000\n",
            "Validation Cost at iteration 0 is: 1.88717, learning rate: 0.20000\n",
            "EPOCH----------------------------->= 8\n",
            "BATCH----------------------------->= 4\n",
            "Train Cost at iteration 0 is: 1.93527, learning rate: 0.20000\n",
            "Validation Cost at iteration 0 is: 1.91586, learning rate: 0.20000\n",
            "EPOCH----------------------------->= 8\n",
            "BATCH----------------------------->= 5\n",
            "Train Cost at iteration 0 is: 1.93587, learning rate: 0.20000\n",
            "Validation Cost at iteration 0 is: 1.91738, learning rate: 0.20000\n",
            "EPOCH----------------------------->= 8\n",
            "BATCH----------------------------->= 6\n",
            "Train Cost at iteration 0 is: 1.89465, learning rate: 0.20000\n",
            "Validation Cost at iteration 0 is: 1.88223, learning rate: 0.20000\n",
            "EPOCH----------------------------->= 8\n",
            "BATCH----------------------------->= 7\n",
            "Train Cost at iteration 0 is: 2.16506, learning rate: 0.20000\n",
            "Validation Cost at iteration 0 is: 2.16558, learning rate: 0.20000\n",
            "EPOCH----------------------------->= 8\n",
            "BATCH----------------------------->= 8\n",
            "Train Cost at iteration 0 is: 2.00224, learning rate: 0.20000\n",
            "Validation Cost at iteration 0 is: 1.98019, learning rate: 0.20000\n",
            "EPOCH----------------------------->= 8\n",
            "BATCH----------------------------->= 9\n",
            "Train Cost at iteration 0 is: 1.93838, learning rate: 0.20000\n",
            "Validation Cost at iteration 0 is: 1.93787, learning rate: 0.20000\n",
            "TIME TAKEN=> 12.816360712051392 seconds\n",
            "6695370752\n",
            "[3.0766514821623896, 2.257147407817577, 2.144272699275865, 2.0693699244459745, 1.9462494662814975, 1.9435727870930954, 1.8998327617717328, 1.9034641497665106, 1.938379069353343]\n",
            "[2.99783356144783, 2.2556997055876904, 2.1502113223212946, 2.0749370796815927, 1.9487754844104237, 1.9476651720620375, 1.901159374341146, 1.9038856302413365, 1.9378730350675661]\n",
            "EPOCH----------------------------->= 9\n",
            "BATCH----------------------------->= 0\n",
            "Train Cost at iteration 0 is: 1.92945, learning rate: 0.20000\n",
            "Validation Cost at iteration 0 is: 1.92444, learning rate: 0.20000\n",
            "EPOCH----------------------------->= 9\n",
            "BATCH----------------------------->= 1\n",
            "Train Cost at iteration 0 is: 1.89351, learning rate: 0.20000\n",
            "Validation Cost at iteration 0 is: 1.89990, learning rate: 0.20000\n",
            "EPOCH----------------------------->= 9\n",
            "BATCH----------------------------->= 2\n",
            "Train Cost at iteration 0 is: 1.87321, learning rate: 0.20000\n",
            "Validation Cost at iteration 0 is: 1.88402, learning rate: 0.20000\n",
            "EPOCH----------------------------->= 9\n",
            "BATCH----------------------------->= 3\n",
            "Train Cost at iteration 0 is: 1.88484, learning rate: 0.20000\n",
            "Validation Cost at iteration 0 is: 1.87670, learning rate: 0.20000\n",
            "EPOCH----------------------------->= 9\n",
            "BATCH----------------------------->= 4\n",
            "Train Cost at iteration 0 is: 1.92650, learning rate: 0.20000\n",
            "Validation Cost at iteration 0 is: 1.90812, learning rate: 0.20000\n",
            "EPOCH----------------------------->= 9\n",
            "BATCH----------------------------->= 5\n",
            "Train Cost at iteration 0 is: 1.92846, learning rate: 0.20000\n",
            "Validation Cost at iteration 0 is: 1.90673, learning rate: 0.20000\n",
            "EPOCH----------------------------->= 9\n",
            "BATCH----------------------------->= 6\n",
            "Train Cost at iteration 0 is: 1.88809, learning rate: 0.20000\n",
            "Validation Cost at iteration 0 is: 1.87449, learning rate: 0.20000\n",
            "EPOCH----------------------------->= 9\n",
            "BATCH----------------------------->= 7\n",
            "Train Cost at iteration 0 is: 1.88738, learning rate: 0.20000\n",
            "Validation Cost at iteration 0 is: 1.87636, learning rate: 0.20000\n",
            "EPOCH----------------------------->= 9\n",
            "BATCH----------------------------->= 8\n",
            "Train Cost at iteration 0 is: 1.89343, learning rate: 0.20000\n",
            "Validation Cost at iteration 0 is: 1.87503, learning rate: 0.20000\n",
            "EPOCH----------------------------->= 9\n",
            "BATCH----------------------------->= 9\n",
            "Train Cost at iteration 0 is: 1.90379, learning rate: 0.20000\n",
            "Validation Cost at iteration 0 is: 1.90264, learning rate: 0.20000\n",
            "TIME TAKEN=> 12.624587297439575 seconds\n",
            "6695370752\n",
            "[3.0766514821623896, 2.257147407817577, 2.144272699275865, 2.0693699244459745, 1.9462494662814975, 1.9435727870930954, 1.8998327617717328, 1.9034641497665106, 1.938379069353343, 1.9037873978547295]\n",
            "[2.99783356144783, 2.2556997055876904, 2.1502113223212946, 2.0749370796815927, 1.9487754844104237, 1.9476651720620375, 1.901159374341146, 1.9038856302413365, 1.9378730350675661, 1.9026415045498366]\n",
            "TOTAL TIME TAKEN=126.10604047775269\n",
            "Accuracy for training set is 0.280 %\n",
            "Accuracy for testing set is 0.282 %\n",
            "MEMORY USAGE FOR TOTAL EPOCHS----->8540.013714285715MB\n",
            "[3.0766514821623896, 2.257147407817577, 2.144272699275865, 2.0693699244459745, 1.9462494662814975, 1.9435727870930954, 1.8998327617717328, 1.9034641497665106, 1.938379069353343, 1.9037873978547295]\n",
            "[2.99783356144783, 2.2556997055876904, 2.1502113223212946, 2.0749370796815927, 1.9487754844104237, 1.9476651720620375, 1.901159374341146, 1.9038856302413365, 1.9378730350675661, 1.9026415045498366]\n",
            "[0, 1, 2, 3, 4, 5, 6, 7, 8, 9]\n"
          ],
          "name": "stdout"
        },
        {
          "output_type": "display_data",
          "data": {
            "image/png": "[encoded data removed]",
            "text/plain": [
              "<Figure size 432x288 with 1 Axes>"
            ]
          },
          "metadata": {
            "tags": [],
            "needs_background": "light"
          }
        },
        {
          "output_type": "display_data",
          "data": {
            "image/png": "[encoded data removed]",
            "text/plain": [
              "<Figure size 432x288 with 1 Axes>"
            ]
          },
          "metadata": {
            "tags": [],
            "needs_background": "light"
          }
        }
      ]
    }
  ]
}